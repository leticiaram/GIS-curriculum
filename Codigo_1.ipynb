{
  "nbformat": 4,
  "nbformat_minor": 0,
  "metadata": {
    "colab": {
      "provenance": [],
      "toc_visible": true,
      "authorship_tag": "ABX9TyM4mEYWIR4mVzv2DuaQggXd",
      "include_colab_link": true
    },
    "kernelspec": {
      "name": "python3",
      "display_name": "Python 3"
    },
    "language_info": {
      "name": "python"
    }
  },
  "cells": [
    {
      "cell_type": "markdown",
      "metadata": {
        "id": "view-in-github",
        "colab_type": "text"
      },
      "source": [
        "<a href=\"https://colab.research.google.com/github/leticiaram/GIS-curriculum/blob/main/Codigo_1.ipynb\" target=\"_parent\"><img src=\"https://colab.research.google.com/assets/colab-badge.svg\" alt=\"Open In Colab\"/></a>"
      ]
    },
    {
      "cell_type": "markdown",
      "source": [
        "# Código 1"
      ],
      "metadata": {
        "id": "y0MA-00GlsQ8"
      }
    },
    {
      "cell_type": "markdown",
      "source": [
        "# Muestreo"
      ],
      "metadata": {
        "id": "Zxathy9TmcjV"
      }
    },
    {
      "cell_type": "code",
      "source": [
        "import random"
      ],
      "metadata": {
        "id": "mlmmB5y0njEL"
      },
      "execution_count": 71,
      "outputs": []
    },
    {
      "cell_type": "markdown",
      "source": [
        "## Con reemplazo"
      ],
      "metadata": {
        "id": "vEQIvOXVmf2I"
      }
    },
    {
      "cell_type": "markdown",
      "source": [
        "Generate n samples from a sequence with the possibility of repetition. Sample with replacement"
      ],
      "metadata": {
        "id": "6a30qWdmn453"
      }
    },
    {
      "cell_type": "code",
      "source": [
        "random.seed(1)\n",
        "seq = range(10)\n",
        "n = 20\n",
        "sample_wr = random.choices(seq, k=n)"
      ],
      "metadata": {
        "id": "sM0BQTDDmEov"
      },
      "execution_count": 86,
      "outputs": []
    },
    {
      "cell_type": "code",
      "source": [
        "sample_wr"
      ],
      "metadata": {
        "colab": {
          "base_uri": "https://localhost:8080/"
        },
        "id": "WBmYI0jDpLNN",
        "outputId": "cdcdb644-9c7a-4488-9a1e-faade525a2c7"
      },
      "execution_count": 87,
      "outputs": [
        {
          "output_type": "execute_result",
          "data": {
            "text/plain": [
              "[1, 8, 7, 2, 4, 4, 6, 7, 0, 0, 8, 4, 7, 0, 4, 7, 2, 9, 9, 0]"
            ]
          },
          "metadata": {},
          "execution_count": 87
        }
      ]
    },
    {
      "cell_type": "markdown",
      "source": [
        "## Sin Reemplazo"
      ],
      "metadata": {
        "id": "28zGqj5ImxCX"
      }
    },
    {
      "cell_type": "markdown",
      "source": [
        "Generate n unique samples (multiple items) from a sequence without repetition. Here, A seq can be a list, set, string, tuple. Sample without replacement."
      ],
      "metadata": {
        "id": "aOESBYZKm6Rp"
      }
    },
    {
      "cell_type": "code",
      "source": [
        "random.seed(10)\n",
        "seq = range(30)\n",
        "n = 20\n",
        "sample_wtr = random.sample(seq, n)"
      ],
      "metadata": {
        "id": "oOMeJ52Gm01T"
      },
      "execution_count": 80,
      "outputs": []
    },
    {
      "cell_type": "code",
      "source": [
        "sample_wtr"
      ],
      "metadata": {
        "colab": {
          "base_uri": "https://localhost:8080/"
        },
        "id": "_UoCtp-6nl-y",
        "outputId": "480cefeb-852d-46ba-ff56-1070dd6bb688"
      },
      "execution_count": 81,
      "outputs": [
        {
          "output_type": "execute_result",
          "data": {
            "text/plain": [
              "[18, 1, 13, 15, 29, 0, 6, 14, 26, 8, 5, 28, 16, 21, 10, 25, 3, 11, 19, 24]"
            ]
          },
          "metadata": {},
          "execution_count": 81
        }
      ]
    },
    {
      "cell_type": "markdown",
      "source": [
        "# Distribución Binomial"
      ],
      "metadata": {
        "id": "7Utk6USg-wWZ"
      }
    },
    {
      "cell_type": "code",
      "source": [
        "import numpy as np\n",
        "from scipy.stats import binom\n",
        "import matplotlib.pyplot as plt"
      ],
      "metadata": {
        "id": "4zK7hugX-4sj"
      },
      "execution_count": 96,
      "outputs": []
    },
    {
      "cell_type": "code",
      "source": [
        "n, p = 3, 0.4\n",
        "x = np.arange(0,n+1)\n",
        "fig, ax = plt.subplots(1, 1)\n",
        "ax.plot(x, binom.pmf(x, n, p), 'bo', ms=8, label='binom pmf')\n",
        "ax.vlines(x, 0, binom.pmf(x, n, p), colors='b', lw=5, alpha=0.5)"
      ],
      "metadata": {
        "colab": {
          "base_uri": "https://localhost:8080/",
          "height": 448
        },
        "id": "_M8MuwlZ-vRx",
        "outputId": "e2391df6-894e-4718-8e3b-98d04075e870"
      },
      "execution_count": 102,
      "outputs": [
        {
          "output_type": "execute_result",
          "data": {
            "text/plain": [
              "<matplotlib.collections.LineCollection at 0x7e29cfd258a0>"
            ]
          },
          "metadata": {},
          "execution_count": 102
        },
        {
          "output_type": "display_data",
          "data": {
            "text/plain": [
              "<Figure size 640x480 with 1 Axes>"
            ],
            "image/png": "[encoded data removed]"
          },
          "metadata": {}
        }
      ]
    },
    {
      "cell_type": "code",
      "source": [
        "n, p = 10, 0.4\n",
        "x = np.arange(0,n+1)\n",
        "fig, ax = plt.subplots(1, 1)\n",
        "ax.plot(x, binom.pmf(x, n, p), 'bo', ms=8, label='binom pmf')\n",
        "ax.vlines(x, 0, binom.pmf(x, n, p), colors='b', lw=5, alpha=0.5)\n"
      ],
      "metadata": {
        "colab": {
          "base_uri": "https://localhost:8080/",
          "height": 448
        },
        "id": "eQ5B6upZ_zyD",
        "outputId": "8cd13cfa-a35c-48e2-c841-409199d13626"
      },
      "execution_count": 103,
      "outputs": [
        {
          "output_type": "execute_result",
          "data": {
            "text/plain": [
              "<matplotlib.collections.LineCollection at 0x7e29cf639c00>"
            ]
          },
          "metadata": {},
          "execution_count": 103
        },
        {
          "output_type": "display_data",
          "data": {
            "text/plain": [
              "<Figure size 640x480 with 1 Axes>"
            ],
            "image/png": "[encoded data removed]"
          },
          "metadata": {}
        }
      ]
    },
    {
      "cell_type": "markdown",
      "source": [
        "# Distribución Poisson\n",
        "\n"
      ],
      "metadata": {
        "id": "BQu-O9fCluDq"
      }
    },
    {
      "cell_type": "code",
      "execution_count": null,
      "metadata": {
        "id": "QMFOdh1xRe-8"
      },
      "outputs": [],
      "source": [
        "#import pandas as pd\n",
        "#import scipy.stats as stats\n",
        "#import seaborn as sns"
      ]
    },
    {
      "cell_type": "code",
      "source": [
        "import numpy as np\n",
        "import matplotlib.pyplot as plt\n",
        "from scipy.stats import poisson"
      ],
      "metadata": {
        "id": "oYvVTE7KVZ7Y"
      },
      "execution_count": 2,
      "outputs": []
    },
    {
      "cell_type": "code",
      "source": [
        "k = np.arange(0, 17)\n",
        "print(k)"
      ],
      "metadata": {
        "colab": {
          "base_uri": "https://localhost:8080/"
        },
        "id": "XPn_tRJ2VoSB",
        "outputId": "f413890b-1926-41d1-9ade-08e852c8551e"
      },
      "execution_count": 3,
      "outputs": [
        {
          "output_type": "stream",
          "name": "stdout",
          "text": [
            "[ 0  1  2  3  4  5  6  7  8  9 10 11 12 13 14 15 16]\n"
          ]
        }
      ]
    },
    {
      "cell_type": "markdown",
      "source": [
        "## Función de Densidad de Probabilidad (Probability Mass Function)\n"
      ],
      "metadata": {
        "id": "Vp_tEDL3lZCi"
      }
    },
    {
      "cell_type": "code",
      "source": [
        "pmf = poisson.pmf(k, mu=7)\n",
        "pmf = np.round(pmf, 5)\n",
        "print(pmf)"
      ],
      "metadata": {
        "colab": {
          "base_uri": "https://localhost:8080/"
        },
        "id": "GCmY7iBRVahc",
        "outputId": "b07affe1-2e97-4c05-c98e-ce92ebe745f8"
      },
      "execution_count": 4,
      "outputs": [
        {
          "output_type": "stream",
          "name": "stdout",
          "text": [
            "[0.00091 0.00638 0.02234 0.05213 0.09123 0.12772 0.149   0.149   0.13038\n",
            " 0.1014  0.07098 0.04517 0.02635 0.01419 0.00709 0.00331 0.00145]\n"
          ]
        }
      ]
    },
    {
      "cell_type": "code",
      "source": [
        "plt.plot(k, pmf,'o')\n",
        "plt.xlabel('k')\n",
        "plt.ylabel('Probability')\n",
        "\n",
        "plt.show()"
      ],
      "metadata": {
        "colab": {
          "base_uri": "https://localhost:8080/",
          "height": 449
        },
        "id": "y7tnmY-RVyn4",
        "outputId": "4cffb110-32c8-4324-98bc-ea46274adaf3"
      },
      "execution_count": 64,
      "outputs": [
        {
          "output_type": "display_data",
          "data": {
            "text/plain": [
              "<Figure size 640x480 with 1 Axes>"
            ],
            "image/png": "[encoded data removed]"
          },
          "metadata": {}
        }
      ]
    },
    {
      "cell_type": "code",
      "source": [
        "my_list = []\n",
        "for i in range(len(k)):\n",
        "  my_list.append([(k[i], 0), (k[i], pmf[i])])\n",
        "print(my_list)"
      ],
      "metadata": {
        "id": "G2OSVhAxX6WT",
        "colab": {
          "base_uri": "https://localhost:8080/"
        },
        "outputId": "9d6927dc-23e0-4f52-82c3-85466473a9fc"
      },
      "execution_count": 60,
      "outputs": [
        {
          "output_type": "stream",
          "name": "stdout",
          "text": [
            "[[(0, 0), (0, 0.00091)], [(1, 0), (1, 0.00638)], [(2, 0), (2, 0.02234)], [(3, 0), (3, 0.05213)], [(4, 0), (4, 0.09123)], [(5, 0), (5, 0.12772)], [(6, 0), (6, 0.149)], [(7, 0), (7, 0.149)], [(8, 0), (8, 0.13038)], [(9, 0), (9, 0.1014)], [(10, 0), (10, 0.07098)], [(11, 0), (11, 0.04517)], [(12, 0), (12, 0.02635)], [(13, 0), (13, 0.01419)], [(14, 0), (14, 0.00709)], [(15, 0), (15, 0.00331)], [(16, 0), (16, 0.00145)]]\n"
          ]
        }
      ]
    },
    {
      "cell_type": "code",
      "source": [
        "import pylab as pl\n",
        "from matplotlib import collections  as mc"
      ],
      "metadata": {
        "id": "2TKjlJsoj1sh"
      },
      "execution_count": null,
      "outputs": []
    },
    {
      "cell_type": "code",
      "source": [
        "lc = mc.LineCollection(my_list, linewidths=2)\n",
        "fig, ax = pl.subplots()\n",
        "ax.add_collection(lc)\n",
        "plt.plot(k, pmf,'o')\n",
        "plt.xlabel('k')\n",
        "plt.ylabel('Probability')\n",
        "ax.autoscale()\n",
        "ax.margins(0.1)"
      ],
      "metadata": {
        "colab": {
          "base_uri": "https://localhost:8080/",
          "height": 449
        },
        "id": "PD3Ff09vhSfy",
        "outputId": "d8c0ea24-2a58-46cd-e642-c5419f4f0bdc"
      },
      "execution_count": 62,
      "outputs": [
        {
          "output_type": "display_data",
          "data": {
            "text/plain": [
              "<Figure size 640x480 with 1 Axes>"
            ],
            "image/png": "[encoded data removed]"
          },
          "metadata": {}
        }
      ]
    },
    {
      "cell_type": "markdown",
      "source": [
        "## Función de Distribución (Cumulative Distribution Function)"
      ],
      "metadata": {
        "id": "QxcUdnOWhnRf"
      }
    },
    {
      "cell_type": "code",
      "source": [
        "cdf = poisson.cdf(k, mu=7)\n",
        "cdf = np.round(cdf, 3)\n",
        "\n",
        "print(cdf)"
      ],
      "metadata": {
        "colab": {
          "base_uri": "https://localhost:8080/"
        },
        "id": "tKQQKpQzV3gx",
        "outputId": "543a25e2-88d6-43e6-e4f9-65ad8dba7364"
      },
      "execution_count": 45,
      "outputs": [
        {
          "output_type": "stream",
          "name": "stdout",
          "text": [
            "[0.001 0.007 0.03  0.082 0.173 0.301 0.45  0.599 0.729 0.83  0.901 0.947\n",
            " 0.973 0.987 0.994 0.998 0.999]\n"
          ]
        }
      ]
    },
    {
      "cell_type": "code",
      "source": [
        "my_list_cdf = []\n",
        "for i in range(len(k)-1):\n",
        "  my_list_cdf.append([(k[i], cdf[i]), (k[i+1], cdf[i])])\n",
        "print(my_list_cdf)"
      ],
      "metadata": {
        "colab": {
          "base_uri": "https://localhost:8080/"
        },
        "id": "wewqjue5h7-e",
        "outputId": "51272b31-5243-4543-b641-2c1f28174444"
      },
      "execution_count": 53,
      "outputs": [
        {
          "output_type": "stream",
          "name": "stdout",
          "text": [
            "[[(0, 0.001), (1, 0.001)], [(1, 0.007), (2, 0.007)], [(2, 0.03), (3, 0.03)], [(3, 0.082), (4, 0.082)], [(4, 0.173), (5, 0.173)], [(5, 0.301), (6, 0.301)], [(6, 0.45), (7, 0.45)], [(7, 0.599), (8, 0.599)], [(8, 0.729), (9, 0.729)], [(9, 0.83), (10, 0.83)], [(10, 0.901), (11, 0.901)], [(11, 0.947), (12, 0.947)], [(12, 0.973), (13, 0.973)], [(13, 0.987), (14, 0.987)], [(14, 0.994), (15, 0.994)], [(15, 0.998), (16, 0.998)]]\n"
          ]
        }
      ]
    },
    {
      "cell_type": "code",
      "source": [
        "lc = mc.LineCollection(my_list_cdf, linewidths=2)\n",
        "fig, ax = pl.subplots()\n",
        "ax.add_collection(lc)\n",
        "plt.plot(k, cdf, 'o')\n",
        "ax.autoscale()\n",
        "ax.margins(0.1)"
      ],
      "metadata": {
        "id": "EJZ4QYhCX6KK",
        "colab": {
          "base_uri": "https://localhost:8080/",
          "height": 430
        },
        "outputId": "869c7d35-a29a-406a-f772-05c80c4497d7"
      },
      "execution_count": 65,
      "outputs": [
        {
          "output_type": "display_data",
          "data": {
            "text/plain": [
              "<Figure size 640x480 with 1 Axes>"
            ],
            "image/png": "[encoded data removed]"
          },
          "metadata": {}
        }
      ]
    },
    {
      "cell_type": "markdown",
      "source": [
        "## Aproximación de la Binomial a la Poisson"
      ],
      "metadata": {
        "id": "g2SBn4_WAqRy"
      }
    },
    {
      "cell_type": "code",
      "source": [
        "n, p = 20, 0.3\n",
        "x = np.arange(0,n+1)\n",
        "\n",
        "pmf = poisson.pmf(x, mu=n*p)\n",
        "\n",
        "fig, ax = plt.subplots(1, 1)\n",
        "ax.plot(x, binom.pmf(x, n, p), 'bo', ms=8, label='binom pmf')\n",
        "ax.vlines(x, 0, binom.pmf(x, n, p), colors='b', lw=5, alpha=0.5)\n",
        "\n",
        "plt.plot(x, pmf,'ro')"
      ],
      "metadata": {
        "colab": {
          "base_uri": "https://localhost:8080/",
          "height": 451
        },
        "id": "sEEG6qLbV8-a",
        "outputId": "d87f4262-d938-423d-b312-14a32a9feca9"
      },
      "execution_count": 107,
      "outputs": [
        {
          "output_type": "execute_result",
          "data": {
            "text/plain": [
              "[<matplotlib.lines.Line2D at 0x7e29cf5ee4a0>]"
            ]
          },
          "metadata": {},
          "execution_count": 107
        },
        {
          "output_type": "display_data",
          "data": {
            "text/plain": [
              "<Figure size 640x480 with 1 Axes>"
            ],
            "image/png": "[encoded data removed]"
          },
          "metadata": {}
        }
      ]
    },
    {
      "cell_type": "code",
      "source": [
        "n, p = 20, 0.02\n",
        "x = np.arange(0,n+1)\n",
        "\n",
        "pmf = poisson.pmf(x, mu=n*p)\n",
        "\n",
        "fig, ax = plt.subplots(1, 1)\n",
        "ax.plot(x, binom.pmf(x, n, p), 'bo', ms=8, label='binom pmf')\n",
        "ax.vlines(x, 0, binom.pmf(x, n, p), colors='b', lw=5, alpha=0.5)\n",
        "\n",
        "plt.plot(x, pmf,'ro')"
      ],
      "metadata": {
        "id": "Iudnm0TmX6So",
        "colab": {
          "base_uri": "https://localhost:8080/",
          "height": 451
        },
        "outputId": "c8cf3455-1e67-4124-e7e8-6d143352d224"
      },
      "execution_count": 108,
      "outputs": [
        {
          "output_type": "execute_result",
          "data": {
            "text/plain": [
              "[<matplotlib.lines.Line2D at 0x7e29cf91cf10>]"
            ]
          },
          "metadata": {},
          "execution_count": 108
        },
        {
          "output_type": "display_data",
          "data": {
            "text/plain": [
              "<Figure size 640x480 with 1 Axes>"
            ],
            "image/png": "[encoded data removed]"
          },
          "metadata": {}
        }
      ]
    },
    {
      "cell_type": "code",
      "source": [],
      "metadata": {
        "id": "EDKoIK6sX6Z7"
      },
      "execution_count": 66,
      "outputs": []
    },
    {
      "cell_type": "code",
      "source": [],
      "metadata": {
        "id": "V1I_Bo-NgHMG"
      },
      "execution_count": 108,
      "outputs": []
    },
    {
      "cell_type": "code",
      "source": [],
      "metadata": {
        "id": "1wSCst0EX6eP"
      },
      "execution_count": 67,
      "outputs": []
    },
    {
      "cell_type": "code",
      "source": [],
      "metadata": {
        "id": "r9TiKE7jdS8_"
      },
      "execution_count": 68,
      "outputs": []
    }
  ]
}